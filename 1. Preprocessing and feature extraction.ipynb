{
 "cells": [
  {
   "cell_type": "markdown",
   "metadata": {},
   "source": [
    "# Preprocessing and feature extraction"
   ]
  },
  {
   "cell_type": "code",
   "execution_count": 1,
   "metadata": {},
   "outputs": [],
   "source": [
    "import os\n",
    "import numpy as np\n",
    "import nibabel as nib\n",
    "import pandas as pd\n",
    "import SimpleITK as sitk\n",
    "import radiomics\n",
    "from radiomics import featureextractor\n",
    "from skimage.measure import label, regionprops, regionprops_table\n",
    "import matplotlib.pyplot as plt\n",
    "import seaborn as sns\n",
    "%matplotlib inline\n",
    "\n",
    "#show full pandas dataframe\n",
    "\n",
    "pd.set_option(\"display.max_rows\", None, \"display.max_columns\", None) "
   ]
  },
  {
   "cell_type": "code",
   "execution_count": 4,
   "metadata": {},
   "outputs": [],
   "source": [
    "#load data\n",
    "\n",
    "df_ncrnet = pd.read_csv(\"Desktop/Feature extraction/with less features/ncrnet_fofeatures.csv\")\n",
    "df_ed = pd.read_csv(\"Desktop/Feature extraction/with less features/ed_fofeatures.csv\")\n",
    "df_et = pd.read_csv(\"Desktop/Feature extraction/with less features/et_forfeatures.csv\")\n",
    "\n",
    "df_survival_data = pd.read_csv('/Volumes/LaCie/Third semester DSS/Block 3/Thesis/data/survival_info.csv')\n",
    "df_rp = pd.read_csv(\"Desktop/Feature extraction/df_regionprops.csv\")\n",
    "df_survival = df_survival_data.copy() #use copy of original survival dataset"
   ]
  },
  {
   "cell_type": "markdown",
   "metadata": {},
   "source": [
    "# Exploratory Data Analysis"
   ]
  },
  {
   "cell_type": "code",
   "execution_count": 41,
   "metadata": {},
   "outputs": [
    {
     "name": "stdout",
     "output_type": "stream",
     "text": [
      "Shape of dataset: (236, 4)\n"
     ]
    },
    {
     "data": {
      "text/html": [
       "<div>\n",
       "<style scoped>\n",
       "    .dataframe tbody tr th:only-of-type {\n",
       "        vertical-align: middle;\n",
       "    }\n",
       "\n",
       "    .dataframe tbody tr th {\n",
       "        vertical-align: top;\n",
       "    }\n",
       "\n",
       "    .dataframe thead th {\n",
       "        text-align: right;\n",
       "    }\n",
       "</style>\n",
       "<table border=\"1\" class=\"dataframe\">\n",
       "  <thead>\n",
       "    <tr style=\"text-align: right;\">\n",
       "      <th></th>\n",
       "      <th>Brats20ID</th>\n",
       "      <th>Age</th>\n",
       "      <th>Survival_days</th>\n",
       "      <th>Extent_of_Resection</th>\n",
       "    </tr>\n",
       "  </thead>\n",
       "  <tbody>\n",
       "    <tr>\n",
       "      <th>0</th>\n",
       "      <td>BraTS20_Training_001</td>\n",
       "      <td>60.463</td>\n",
       "      <td>289</td>\n",
       "      <td>GTR</td>\n",
       "    </tr>\n",
       "    <tr>\n",
       "      <th>1</th>\n",
       "      <td>BraTS20_Training_002</td>\n",
       "      <td>52.263</td>\n",
       "      <td>616</td>\n",
       "      <td>GTR</td>\n",
       "    </tr>\n",
       "    <tr>\n",
       "      <th>2</th>\n",
       "      <td>BraTS20_Training_003</td>\n",
       "      <td>54.301</td>\n",
       "      <td>464</td>\n",
       "      <td>GTR</td>\n",
       "    </tr>\n",
       "    <tr>\n",
       "      <th>3</th>\n",
       "      <td>BraTS20_Training_004</td>\n",
       "      <td>39.068</td>\n",
       "      <td>788</td>\n",
       "      <td>GTR</td>\n",
       "    </tr>\n",
       "    <tr>\n",
       "      <th>4</th>\n",
       "      <td>BraTS20_Training_005</td>\n",
       "      <td>68.493</td>\n",
       "      <td>465</td>\n",
       "      <td>GTR</td>\n",
       "    </tr>\n",
       "  </tbody>\n",
       "</table>\n",
       "</div>"
      ],
      "text/plain": [
       "              Brats20ID     Age Survival_days Extent_of_Resection\n",
       "0  BraTS20_Training_001  60.463           289                 GTR\n",
       "1  BraTS20_Training_002  52.263           616                 GTR\n",
       "2  BraTS20_Training_003  54.301           464                 GTR\n",
       "3  BraTS20_Training_004  39.068           788                 GTR\n",
       "4  BraTS20_Training_005  68.493           465                 GTR"
      ]
     },
     "execution_count": 41,
     "metadata": {},
     "output_type": "execute_result"
    }
   ],
   "source": [
    "print(\"Shape of dataset:\", df_survival.shape)\n",
    "\n",
    "df_survival.head()"
   ]
  },
  {
   "cell_type": "code",
   "execution_count": null,
   "metadata": {},
   "outputs": [],
   "source": [
    "df_survival.info()"
   ]
  },
  {
   "cell_type": "code",
   "execution_count": null,
   "metadata": {},
   "outputs": [],
   "source": [
    "#only for numerical column\n",
    "\n",
    "df_survival.describe()"
   ]
  },
  {
   "cell_type": "code",
   "execution_count": null,
   "metadata": {},
   "outputs": [],
   "source": [
    "#Missing values in column: \"Resection Status\" = 107\n",
    "\n",
    "df_survival.isnull().sum()"
   ]
  },
  {
   "cell_type": "code",
   "execution_count": 5,
   "metadata": {},
   "outputs": [
    {
     "name": "stdout",
     "output_type": "stream",
     "text": [
      "(236, 4)\n"
     ]
    }
   ],
   "source": [
    "#create 'NA' group in 'Extent_of_Resection' column and use it as group\n",
    "\n",
    "df_survival.Extent_of_Resection = df_survival.Extent_of_Resection.fillna(\"NA\")\n",
    "print(df_survival.shape)"
   ]
  },
  {
   "cell_type": "code",
   "execution_count": 6,
   "metadata": {},
   "outputs": [
    {
     "name": "stdout",
     "output_type": "stream",
     "text": [
      "(234, 4)\n"
     ]
    }
   ],
   "source": [
    "#drop patient ID 084 because of status 'ALIVE'\n",
    "#drop patient ID 099 because no mask was found in segmentation (label 1)\n",
    "\n",
    "df_survival = df_survival.drop(index=83, axis=1)\n",
    "df_survival = df_survival.drop(index=98, axis=1)\n",
    "\n",
    "print(df_survival.shape)"
   ]
  },
  {
   "cell_type": "code",
   "execution_count": 7,
   "metadata": {},
   "outputs": [],
   "source": [
    "#Set 'Survival_days' and 'Age' to numeric\n",
    "\n",
    "df_survival[\"Survival_days\"] = pd.to_numeric(df_survival[\"Survival_days\"])\n",
    "df_survival[\"Age\"] = pd.to_numeric(df_survival[\"Age\"])"
   ]
  },
  {
   "cell_type": "code",
   "execution_count": 8,
   "metadata": {},
   "outputs": [],
   "source": [
    "#Bin continuous survival data in 2 and 3 groups\n",
    "\n",
    "#Three-class classification #BraTS 2020 challenge\n",
    "\n",
    "#short-term survivors = 0 up to 303 days (<10 months)\n",
    "#mid-term survivors = 304 up to 455 (between 10 and 15 months)\n",
    "#long-term survivors = 456 and up (>15 months)\n",
    "\n",
    "#Two-class classification model\n",
    "\n",
    "#short-term survivors = 0 up to 455 days (<15 months)\n",
    "#long-term survivors = 456 and up (>15 months)\n",
    "\n",
    "df_surv_2 = df_survival.copy()\n",
    "df_surv_3 = df_survival.copy()\n",
    "\n",
    "df_surv_3[\"Survival_group\"] = pd.cut(df_surv_3.Survival_days.astype(int),bins=[0,303,455,1768],labels=['short-term','mid-term','long-term'])\n",
    "df_surv_2[\"Survival_group\"] = pd.cut(df_surv_2.Survival_days.astype(int),bins=[0,455,1768],labels=['short-term','long-term'])\n",
    "\n"
   ]
  },
  {
   "cell_type": "code",
   "execution_count": 10,
   "metadata": {},
   "outputs": [
    {
     "name": "stderr",
     "output_type": "stream",
     "text": [
      "/Users/b.vangurp/opt/anaconda3/lib/python3.8/site-packages/seaborn/distributions.py:2551: FutureWarning: `distplot` is a deprecated function and will be removed in a future version. Please adapt your code to use either `displot` (a figure-level function with similar flexibility) or `histplot` (an axes-level function for histograms).\n",
      "  warnings.warn(msg, FutureWarning)\n"
     ]
    },
    {
     "data": {
      "image/png": "[encoded data removed]",
      "text/plain": [
       "<Figure size 432x288 with 1 Axes>"
      ]
     },
     "metadata": {
      "needs_background": "light"
     },
     "output_type": "display_data"
    }
   ],
   "source": [
    "#right-skewed histogram\n",
    "\n",
    "ax = sns.distplot(df_survival['Survival_days'], hist = True)\n",
    "plt.show()"
   ]
  },
  {
   "cell_type": "code",
   "execution_count": null,
   "metadata": {},
   "outputs": [],
   "source": [
    "display(df_survival)"
   ]
  },
  {
   "cell_type": "markdown",
   "metadata": {},
   "source": [
    "# Feature extraction"
   ]
  },
  {
   "cell_type": "code",
   "execution_count": null,
   "metadata": {},
   "outputs": [],
   "source": [
    "%%time\n",
    "\n",
    "#PYRADIOMICS FEATURE EXTRACTION\n",
    "#extracting PyRadiomics first order, shape, volume and texture features\n",
    "\n",
    "#label 1: NCR/NET = necrotic and non-enhancing tumor --> visible in t2\n",
    "#label 2: ED = edema                                 --> visible in T2-FLAIR\n",
    "#label 4: ET = GD-enhancing tumor                    --> visible in t1ce\n",
    "\n",
    "paramPath = ('/Volumes/LaCie/Third semester DSS/Block 3/Thesis/data/pyradiomics-master/examples/exampleSettings/Params.yaml')\n",
    "extractor = featureextractor.RadiomicsFeatureExtractor(paramPath)\n",
    "\n",
    "case_id_list = [\"001\",\"002\",\"003\",\"004\",\"005\",\"006\",\"007\",\"008\",\"009\",\"010\",\"011\",\"012\",\"013\",\"014\",\"015\",\"016\",\"017\",\"018\",\"019\",\"020\",\n",
    "                \"021\",\"022\",\"023\",\"024\",\"025\",\"026\",\"027\",\"028\",\"029\",\"030\",\"031\",\"032\",\"033\",\"034\",\"035\",\"036\",\"037\",\"038\",\"039\",\"040\",\n",
    "                \"041\",\"042\",\"043\",\"044\",\"045\",\"046\",\"047\",\"048\",\"049\",\"050\",\"051\",\"052\",\"053\",\"054\",\"055\",\"056\",\"057\",\"058\",\"059\",\"060\",\n",
    "                \"061\",\"062\",\"063\",\"064\",\"065\",\"066\",\"067\",\"068\",\"069\",\"070\",\"071\",\"072\",\"073\",\"074\",\"075\",\"076\",\"077\",\"078\",\"079\",\"080\",\n",
    "                \"081\",\"082\",\"083\",\"085\",\"086\",\"087\",\"088\",\"089\",\"090\",\"091\",\"092\",\"093\",\"094\",\"095\",\"096\",\"097\",\"098\",\"100\",\"101\",\"102\",\n",
    "                \"103\",\"104\",\"105\",\"106\",\"107\",\"108\",\"109\",\"110\",\"111\",\"112\",\"113\",\"114\",\"115\",\"116\",\"117\",\"118\",\"119\",\"120\",\"121\",\"122\",\n",
    "                \"123\",\"124\",\"125\",\"126\",\"127\",\"128\",\"129\",\"145\",\"147\",\"151\",\"152\",\"153\",\"154\",\"157\",\"158\",\"159\",\"160\",\"161\",\"162\",\"163\",\n",
    "                \"164\",\"165\",\"166\",\"167\",\"168\",\"169\",\"170\",\"173\",\"174\",\"175\",\"177\",\"178\",\"179\",\"180\",\"181\",\"182\",\"183\",\"184\",\"185\",\"186\",\n",
    "                \"187\",\"188\",\"189\",\"190\",\"191\",\"192\",\"194\",\"195\",\"196\",\"199\",\"201\",\"203\",\"204\",\"206\",\"210\",\"214\",\"215\",\"216\",\"217\",\"218\",\n",
    "                \"219\",\"220\",\"221\",\"222\",\"223\",\"224\",\"225\",\"226\",\"227\",\"228\",\"229\",\"230\",\"231\",\"233\",\"235\",\"236\",\"238\",\"239\",\"240\",\"241\",\n",
    "                \"242\",\"246\",\"247\",\"249\",\"250\",\"251\",\"252\",\"253\",\"254\",\"255\",\"337\",\"338\",\"339\",\"340\",\"341\",\"342\",\"345\",\"346\",\"347\",\"348\",\n",
    "                \"351\",\"353\",\"354\",\"355\",\"356\",\"357\",\"358\",\"359\",\"360\",\"363\",\"366\",\"367\",\"368\",\"369\"]\n",
    "\n",
    "features = {}\n",
    "\n",
    "i=0\n",
    "for case_id in case_id_list:\n",
    "    path = '/Volumes/LaCie/Third semester DSS/Block 3/Thesis/data/MICCAI_BraTS2020_TrainingData/BraTS20_Training_{}/BraTS20_Training_{}'.format(case_id, case_id)\n",
    "    image = sitk.ReadImage(path + \"_t2.nii.gz\")\n",
    "    mask = sitk.ReadImage(path + \"_seg.nii.gz\")\n",
    "    features[case_id] = extractor.execute(image, mask)\n",
    "    i+=1\n",
    "    \n",
    "# filter out everything but 'original_' features\n",
    "\n",
    "# for key, val in features.items():\n",
    "#     features[key]={}\n",
    "#     for k,v in val.items():\n",
    "#         if k.startswith(\"original_\"):\n",
    "#             features[key][k] = v\n"
   ]
  },
  {
   "cell_type": "code",
   "execution_count": null,
   "metadata": {},
   "outputs": [],
   "source": [
    "#export features to pandas df and/or csv file\n",
    "\n",
    "# pd.DataFrame.from_dict(features).T.to_csv(\"ncrnet_fffeatures.csv\")\n"
   ]
  },
  {
   "cell_type": "code",
   "execution_count": null,
   "metadata": {},
   "outputs": [],
   "source": [
    "#HANDCRAFTED FEATURE EXTRACTION\n",
    "#Extracting region properties per tumor region (label 1,2,4) in segmentations\n",
    "\n",
    "\n",
    "i=0\n",
    "regionprops = {}\n",
    "for case_id in id_list:\n",
    "    result = {}\n",
    "    path = '/Volumes/LaCie/Third semester DSS/Block 3/Thesis/data/MICCAI_BraTS2020_TrainingData/BraTS20_Training_{}/BraTS20_Training_{}'.format(case_id, case_id)\n",
    "    mask = sitk.ReadImage(path + \"_seg.nii.gz\")\n",
    "    mask = sitk.GetArrayFromImage(mask)\n",
    "    result[case_id] = regionprops_table(mask, properties=('label','centroid','area',\n",
    "                                                 'major_axis_length',\n",
    "                                                 'minor_axis_length'))\n",
    "    i+=1\n",
    "    regionprops.update(result)\n"
   ]
  },
  {
   "cell_type": "code",
   "execution_count": null,
   "metadata": {
    "scrolled": false
   },
   "outputs": [],
   "source": [
    "#export features to pandas df and/or csv file\n",
    "\n",
    "# df_rp.to_csv('df_regionprops.csv')"
   ]
  },
  {
   "cell_type": "markdown",
   "metadata": {},
   "source": [
    "# Cleaning feature files"
   ]
  },
  {
   "cell_type": "code",
   "execution_count": 37,
   "metadata": {},
   "outputs": [
    {
     "name": "stdout",
     "output_type": "stream",
     "text": [
      "(234, 77)\n",
      "(234, 77)\n",
      "(234, 77)\n"
     ]
    }
   ],
   "source": [
    "#add associated suffix to every column\n",
    "\n",
    "\n",
    "df_ncrnet = df_ncrnet.add_suffix('_ncrnet')\n",
    "df_ed = df_ed.add_suffix('_ed')\n",
    "df_et = df_et.add_suffix('_et')\n",
    "\n",
    "print(df_ncrnet.shape)\n",
    "print(df_ed.shape)\n",
    "print(df_et.shape)"
   ]
  },
  {
   "cell_type": "code",
   "execution_count": 38,
   "metadata": {},
   "outputs": [
    {
     "name": "stdout",
     "output_type": "stream",
     "text": [
      "(234, 231)\n"
     ]
    }
   ],
   "source": [
    "#merge 3 feature files to 1\n",
    "\n",
    "df_raw_combined = pd.concat([df_ncrnet, df_ed, df_et], axis = 1, join = \"inner\")\n",
    "\n",
    "print(df_raw_combined.shape)"
   ]
  },
  {
   "cell_type": "code",
   "execution_count": 39,
   "metadata": {},
   "outputs": [
    {
     "name": "stdout",
     "output_type": "stream",
     "text": [
      "(234, 162)\n"
     ]
    }
   ],
   "source": [
    "#drop unnecessary columns\n",
    "\n",
    "df_raw_combined = df_raw_combined.drop([\"Unnamed: 0_ncrnet\"], axis = 1)\n",
    "df_raw_combined = df_raw_combined.drop([\"Unnamed: 0_ed\"], axis = 1)\n",
    "df_raw_combined = df_raw_combined.drop([\"Unnamed: 0_et\"], axis = 1)\n",
    "df_raw_combined = df_raw_combined.drop(df_raw_combined.filter(regex='diagnostics_').columns, axis=1)\n",
    "\n",
    "print(df_raw_combined.shape)"
   ]
  },
  {
   "cell_type": "code",
   "execution_count": null,
   "metadata": {},
   "outputs": [],
   "source": [
    "#list of all used patient cases\n",
    "\n",
    "id_list = [\"001\",\"002\",\"003\",\"004\",\"005\",\"006\",\"007\",\"008\",\"009\",\"010\",\"011\",\"012\",\"013\",\"014\",\"015\",\"016\",\"017\",\"018\",\"019\",\"020\",\n",
    "                \"021\",\"022\",\"023\",\"024\",\"025\",\"026\",\"027\",\"028\",\"029\",\"030\",\"031\",\"032\",\"033\",\"034\",\"035\",\"036\",\"037\",\"038\",\"039\",\"040\",\n",
    "                \"041\",\"042\",\"043\",\"044\",\"045\",\"046\",\"047\",\"048\",\"049\",\"050\",\"051\",\"052\",\"053\",\"054\",\"055\",\"056\",\"057\",\"058\",\"059\",\"060\",\n",
    "                \"061\",\"062\",\"063\",\"064\",\"065\",\"066\",\"067\",\"068\",\"069\",\"070\",\"071\",\"072\",\"073\",\"074\",\"075\",\"076\",\"077\",\"078\",\"079\",\"080\",\n",
    "                \"081\",\"082\",\"083\",\"085\",\"086\",\"087\",\"088\",\"089\",\"090\",\"091\",\"092\",\"093\",\"094\",\"095\",\"096\",\"097\",\"098\",\"100\",\"101\",\n",
    "                \"102\",\"103\",\"104\",\"105\",\"106\",\"107\",\"108\",\"109\",\"110\",\"111\",\"112\",\"113\",\"114\",\"115\",\"116\",\"117\",\"118\",\"119\",\"120\",\"121\",\n",
    "                \"122\",\"123\",\"124\",\"125\",\"126\",\"127\",\"128\",\"129\",\"145\",\"147\",\"151\",\"152\",\"153\",\"154\",\"157\",\"158\",\"159\",\"160\",\"161\",\"162\",\n",
    "                \"163\",\"164\",\"165\",\"166\",\"167\",\"168\",\"169\",\"170\",\"173\",\"174\",\"175\",\"177\",\"178\",\"179\",\"180\",\"181\",\"182\",\"183\",\"184\",\"185\",\n",
    "                \"186\",\"187\",\"188\",\"189\",\"190\",\"191\",\"192\",\"194\",\"195\",\"196\",\"199\",\"201\",\"203\",\"204\",\"206\",\"210\",\"214\",\"215\",\"216\",\"217\",\n",
    "                \"218\",\"219\",\"220\",\"221\",\"222\",\"223\",\"224\",\"225\",\"226\",\"227\",\"228\",\"229\",\"230\",\"231\",\"233\",\"235\",\"236\",\"238\",\"239\",\"240\",\n",
    "                \"241\",\"242\",\"246\",\"247\",\"249\",\"250\",\"251\",\"252\",\"253\",\"254\",\"255\",\"337\",\"338\",\"339\",\"340\",\"341\",\"342\",\"345\",\"346\",\"347\",\n",
    "                \"348\",\"351\",\"353\",\"354\",\"355\",\"356\",\"357\",\"358\",\"359\",\"360\",\"363\",\"366\",\"367\",\"368\",\"369\"]\n"
   ]
  },
  {
   "cell_type": "code",
   "execution_count": 47,
   "metadata": {},
   "outputs": [
    {
     "name": "stdout",
     "output_type": "stream",
     "text": [
      "(232, 167)\n"
     ]
    }
   ],
   "source": [
    "#combine survival data with features file\n",
    "\n",
    "df_combined = pd.concat([df_surv_3, df_raw_combined], axis = 1, join = \"inner\")\n",
    "\n",
    "print(df_combined.shape)"
   ]
  },
  {
   "cell_type": "code",
   "execution_count": null,
   "metadata": {},
   "outputs": [],
   "source": [
    "#check for NaN values and in which column\n",
    "\n",
    "df_combined.isnull().sum()"
   ]
  },
  {
   "cell_type": "code",
   "execution_count": 48,
   "metadata": {},
   "outputs": [],
   "source": [
    "#export to pandas df and/or csv file\n",
    "\n",
    "# df_combined.to_csv('Desktop/Feature extraction/with less features/df_all.csv')"
   ]
  }
 ],
 "metadata": {
  "kernelspec": {
   "display_name": "Python 3",
   "language": "python",
   "name": "python3"
  },
  "language_info": {
   "codemirror_mode": {
    "name": "ipython",
    "version": 3
   },
   "file_extension": ".py",
   "mimetype": "text/x-python",
   "name": "python",
   "nbconvert_exporter": "python",
   "pygments_lexer": "ipython3",
   "version": "3.8.5"
  }
 },
 "nbformat": 4,
 "nbformat_minor": 4
}
